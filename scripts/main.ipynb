{
 "cells": [
  {
   "cell_type": "markdown",
   "metadata": {},
   "source": [
    "## 0. Setup\n",
    "\n",
    "This cell will always need to be run"
   ]
  },
  {
   "cell_type": "code",
   "execution_count": 1,
   "metadata": {
    "execution": {
     "iopub.execute_input": "2020-11-17T06:13:39.453741Z",
     "iopub.status.busy": "2020-11-17T06:13:39.453741Z",
     "iopub.status.idle": "2020-11-17T06:13:39.469357Z",
     "shell.execute_reply": "2020-11-17T06:13:39.469357Z"
    }
   },
   "outputs": [],
   "source": [
    "import os\n",
    "import json\n",
    "\n",
    "# Change cwd to this file's dir, so we can use a relative path when saving and loading files:\n",
    "os.chdir(os.getcwd())"
   ]
  },
  {
   "cell_type": "markdown",
   "metadata": {},
   "source": [
    "## 1. Get latest raw data from EU"
   ]
  },
  {
   "cell_type": "code",
   "execution_count": 2,
   "metadata": {
    "execution": {
<<<<<<< HEAD
     "iopub.execute_input": "2020-11-09T20:31:28.387948Z",
     "iopub.status.busy": "2020-11-09T20:31:28.387948Z",
     "iopub.status.idle": "2020-11-09T20:31:41.105765Z",
     "shell.execute_reply": "2020-11-09T20:31:41.105765Z"
    },
    "tags": []
=======
     "iopub.execute_input": "2020-11-17T06:13:39.469357Z",
     "iopub.status.busy": "2020-11-17T06:13:39.469357Z",
     "iopub.status.idle": "2020-11-17T06:13:58.019266Z",
     "shell.execute_reply": "2020-11-17T06:13:58.018269Z"
    }
>>>>>>> 1db6e997f236e3a2380a3004b0d4442bc2472176
   },
   "outputs": [
    {
     "output_type": "stream",
     "name": "stdout",
     "text": [
      "Step 1: Hacking into the EU mainframe...\n"
     ]
    }
   ],
   "source": [
    "import urllib.request\n",
    "\n",
    "print('Step 1: Hacking into the EU mainframe...')\n",
    "\n",
    "covid_19_data_url = \"https://opendata.ecdc.europa.eu/covid19/casedistribution/json/\"\n",
    "\n",
    "with urllib.request.urlopen(covid_19_data_url) as input_file:\n",
    "\t# Make output available to next script:\n",
    "\tglobal covid_19_dict\n",
    "\t# We read the json, but decode it as plaintext, not bytes:\n",
    "\tcovid_19_dict = json.loads(input_file.read().decode('utf-8'))"
   ]
  },
  {
   "cell_type": "markdown",
   "metadata": {},
   "source": [
    "## Optional - Save 1.\n",
    "Save the output of step 1 in `/data/input/` for later use"
   ]
  },
  {
<<<<<<< HEAD
   "cell_type": "code",
   "execution_count": null,
   "metadata": {},
   "outputs": [],
   "source": [
    "output_file_path = '../data/input/covid_19_raw.json'\n",
    "\n",
    "# We save the fetched data to file:\n",
    "with open(output_file_path, 'w') as output_file:\n",
    "    json.dump(covid_19_dict, output_file, indent=2)\n",
    "    # output_file.write(covid_19_json)"
   ]
  },
  {
=======
   "cell_type": "markdown",
   "metadata": {},
>>>>>>> 1db6e997f236e3a2380a3004b0d4442bc2472176
   "source": [
    "## Optional - Load 1.\n",
    "Load the data needed for step 2, if the data from step 1 has already been saved in `/data/input/`"
   ]
  },
  {
   "cell_type": "code",
   "execution_count": null,
   "metadata": {},
   "outputs": [],
   "source": [
    "input_file_path = '../data/input/covid_19_raw.json'\n",
    "\n",
    "with open(input_file_path) as input_file:\n",
    "    # Make input available to next script:\n",
    "    global covid_19_dict\n",
    "    covid_19_dict = json.loads(input_file.read())"
   ]
  },
  {
   "cell_type": "markdown",
   "metadata": {},
   "source": [
    "## 2. Calculate deaths and cases per capita"
   ]
  },
  {
   "cell_type": "code",
   "execution_count": 3,
   "metadata": {
    "execution": {
     "iopub.execute_input": "2020-11-17T06:13:58.028261Z",
     "iopub.status.busy": "2020-11-17T06:13:58.027261Z",
     "iopub.status.idle": "2020-11-17T06:14:02.751447Z",
     "shell.execute_reply": "2020-11-17T06:14:02.751447Z"
    }
   },
   "outputs": [
    {
     "output_type": "stream",
     "name": "stdout",
     "text": [
      "Step 2: Calculating deaths and cases per capita...\n"
     ]
    }
   ],
   "source": [
    "import copy\n",
    "print('Step 2: Calculating deaths and cases per capita...')\n",
    "\n",
    "# Mutates covid_19_dict\n",
    "def insert_per_cap_columns(covid_19_dict):\n",
    "    # We clone the dict to keep our function pure:\n",
    "    covid_19_dict_copy = copy.deepcopy(covid_19_dict)\n",
    "    covid_19_records = covid_19_dict_copy['records']\n",
    "\n",
    "    for record in covid_19_records:\n",
    "        # Skip cases in international waters etc:\n",
    "        if record['popData2019'] == None:\n",
    "            continue\n",
    "\n",
    "        # Insertion of new 'columns':\n",
    "        record['deaths_per_cap'] = record['deaths'] / record['popData2019']\n",
    "        record['cases_per_cap'] = record['cases'] / record['popData2019']\n",
    "    return covid_19_dict_copy\n",
    "\n",
    "\n",
    "# with open('../data/input/covid_19_raw.json') as input_file:\n",
    "    # covid_19_dict = json.loads(input_file.read())\n",
    "\n",
    "covid_19_dict = insert_per_cap_columns(covid_19_dict)\n",
    "\n",
    "# with open('../data/temp/covid_19_vals_per_cap.json', 'w') as output_file:\n",
    "#     json.dump(covid_19_dict, output_file)\n"
   ]
  },
  {
   "cell_type": "markdown",
   "metadata": {},
   "source": [
    "## Optional - Save 2.\n",
<<<<<<< HEAD
    "Save the output of step 2 in `/data/output/` for later use"
   ],
   "cell_type": "markdown",
   "metadata": {}
  },
  {
   "cell_type": "code",
   "execution_count": null,
   "metadata": {},
   "outputs": [],
   "source": [
    "output_file_path = '../data/output/covid_19_2.json'\n",
    "\n",
    "with open(output_file_path, 'w') as output_file:\n",
    "    json.dump(covid_19_dict, output_file, indent=2)"
   ]
  },
  {
   "source": [
    "## Optional - Load 2.\n",
    "Load the data needed for step 3, if the data from step 2 has already been saved in `/data/output/`"
   ],
   "cell_type": "markdown",
   "metadata": {}
=======
    "Save the output of step 2 in `/data/temp/` for later use"
   ]
  },
  {
   "cell_type": "markdown",
   "metadata": {},
   "source": [
    "## Optional - Load 2.\n",
    "Load the data needed for step 3, if the data from step 2 has already been saved in `/data/temp/`"
   ]
>>>>>>> 1db6e997f236e3a2380a3004b0d4442bc2472176
  },
  {
   "cell_type": "code",
   "execution_count": null,
   "metadata": {},
   "outputs": [],
   "source": [
    "input_file_path = '../data/output/covid_19_2.json'\n",
    "\n",
    "with open(input_file_path) as input_file:\n",
    "    # Make input available to next script:\n",
    "    global covid_19_dict\n",
    "    covid_19_dict = json.loads(input_file.read())"
   ]
  },
  {
   "cell_type": "markdown",
   "metadata": {},
   "source": [
    "## 3. Calculate max values for the visualiser limits"
   ]
  },
  {
   "cell_type": "code",
   "execution_count": 4,
   "metadata": {
    "execution": {
     "iopub.execute_input": "2020-11-17T06:14:02.751447Z",
     "iopub.status.busy": "2020-11-17T06:14:02.751447Z",
     "iopub.status.idle": "2020-11-17T06:14:03.502071Z",
     "shell.execute_reply": "2020-11-17T06:14:03.502071Z"
    }
   },
   "outputs": [
    {
     "output_type": "stream",
     "name": "stdout",
     "text": [
      "Step 3: Calculating max covid-19 cases and deaths...\n"
     ]
    }
   ],
   "source": [
    "print('Step 3: Calculating max covid-19 cases and deaths...')\n",
    "\n",
    "def remove_top_countries(covid_19_records, sort_by):\n",
    "  # The amount of countries to remove:\n",
    "  remove_amt = 3\n",
    "\n",
    "  # There aren't numbers for all records with these variables:\n",
    "  if sort_by == 'cases_per_cap' or sort_by == 'deaths_per_cap':\n",
    "    covid_19_records = filter(\n",
    "        lambda record: record.get(sort_by), covid_19_records)\n",
    "\n",
    "  # Sorts by the given variable:\n",
    "  sorted_list = sorted(covid_19_records, key=lambda record: record[sort_by])\n",
    "\n",
    "  # Removes the countries with the top numbers\n",
    "  for i in range(remove_amt):\n",
    "    highest_num_country = sorted_list[len(\n",
    "        sorted_list) - 1]['countriesAndTerritories']\n",
    "    sorted_list = [\n",
    "        record for record in sorted_list if record['countriesAndTerritories'] != highest_num_country]\n",
    "  return sorted_list\n",
    "\n",
    "\n",
    "def get_max_vals(covid_19_records):\n",
    "  def get_max_value(variable):\n",
    "    sorted_filtered = remove_top_countries(covid_19_records, sort_by=variable)\n",
    "    max = sorted_filtered[len(sorted_filtered) - 1][variable]\n",
    "    return max\n",
    "\n",
    "  return {\n",
    "      \"cases\": get_max_value('cases'),\n",
    "      \"deaths\": get_max_value('deaths'),\n",
    "      \"cases_per_cap\": get_max_value('cases_per_cap'),\n",
    "      \"deaths_per_cap\": get_max_value('deaths_per_cap')\n",
    "  }\n",
    "\n",
    "# Data has not yet been transformed, since it is easier to loop through before nesting data with dates:\n",
    "covid_19_records = covid_19_dict['records']\n",
    "\n",
    "# The max values are not necessarily all for the same country, since they are just used to set the color limits in the visualizer:\n",
    "covid_19_max_vals_dict = get_max_vals(covid_19_records)\n",
    "\n",
    "# with open('../data/temp/covid_19_max_vals.json', 'w') as output_file:\n",
    "#   json.dump(max_vals, output_file)\n"
   ]
  },
  {
   "cell_type": "markdown",
   "metadata": {},
   "source": [
    "## Optional - Save 3.\n",
<<<<<<< HEAD
    "Save the output of step 3 in `/data/output/` for later use"
   ],
   "cell_type": "markdown",
   "metadata": {}
  },
  {
   "cell_type": "code",
   "execution_count": null,
   "metadata": {},
   "outputs": [],
   "source": [
    "output_file_path = '../data/output/covid_19_3.json'\n",
    "\n",
    "with open(output_file_path, 'w') as output_file:\n",
    "  json.dump(covid_19_max_vals_dict, output_file, indent=2)"
   ]
  },
  {
   "source": [
    "## Optional - Load 2.\n",
    "Load the data needed for step 4, if the data from step 2 have already been saved in `/data/output/`"
   ],
   "cell_type": "markdown",
   "metadata": {}
=======
    "Save the output of step 3 in `/data/temp/` for later use"
   ]
  },
  {
   "cell_type": "markdown",
   "metadata": {},
   "source": [
    "## Optional - Load 3.\n",
    "Load the data needed for step 4, if the data from step 3 have already been saved in `/data/temp/`"
   ]
>>>>>>> 1db6e997f236e3a2380a3004b0d4442bc2472176
  },
  {
   "cell_type": "code",
   "execution_count": null,
   "metadata": {},
   "outputs": [],
   "source": [
    "input_file_path = '../data/output/covid_19_2.json'\n",
    "\n",
    "with open(input_file_path) as input_file:\n",
    "    # Make input available to next script:\n",
    "    global covid_19_dict\n",
    "    covid_19_dict = json.loads(input_file.read())"
   ]
  },
  {
   "cell_type": "markdown",
   "metadata": {},
   "source": [
    "## 4. Transform data into a better format for the visualiser"
   ]
  },
  {
   "cell_type": "code",
   "execution_count": 5,
   "metadata": {
    "execution": {
     "iopub.execute_input": "2020-11-17T06:14:03.502071Z",
     "iopub.status.busy": "2020-11-17T06:14:03.502071Z",
     "iopub.status.idle": "2020-11-17T06:14:13.226707Z",
     "shell.execute_reply": "2020-11-17T06:14:13.225710Z"
    }
   },
   "outputs": [
    {
     "output_type": "stream",
     "name": "stdout",
     "text": [
      "Step 4: Transforming the data to make it easier to work with...\n"
     ]
    }
   ],
   "source": [
    "print('Step 4: Transforming the data to make it easier to work with...')\n",
    "\n",
    "def get_unique_dates(covid_19_records):\n",
    "    used_dates = []\n",
    "\n",
    "    for entry in covid_19_records:\n",
    "        date = entry['dateRep']\n",
    "        if date not in used_dates:\n",
    "            used_dates.append(date)\n",
    "        \n",
    "    return used_dates\n",
    "\n",
    "def transform_data(covid_19_records):\n",
    "    # An array for the finished data is created:\n",
    "    data_correct_format = []\n",
    "    # I use my helper function to get an array of dates and run through them:\n",
    "    for date in get_unique_dates(covid_19_records):\n",
    "        # This is the form i want the data to be in, so i create the template dictionary:\n",
    "        date_dict = {'date': date, 'data': []}\n",
    "\n",
    "        # I run through the entire dataset again, and gather all the data points with the corresponding data.\n",
    "        # When found, the entire chunk of data is appended into the countries key in the dictionary:\n",
    "        for entry in covid_19_records:\n",
    "            if entry['dateRep'] == date:\n",
    "                date_dict['data'].append(entry)\n",
    "\n",
    "        # The entire dictionary is then appended to the list:\n",
    "        data_correct_format.append(date_dict)\n",
    "    return data_correct_format\n",
    "\n",
    "\n",
    "covid_19_dict['records'] = transform_data(covid_19_dict['records'])\n",
    "\n",
    "# with open('../data/temp/covid_19_transformed.json', 'w') as output_file:\n",
    "#     json.dump(covid_19_dict, output_file, indent=2)"
   ]
  },
  {
   "cell_type": "markdown",
   "metadata": {},
   "source": [
    "## Optional - Save 4.\n",
<<<<<<< HEAD
    "Save the output of step 4 in `/data/output/` for later use"
   ],
   "cell_type": "markdown",
   "metadata": {}
  },
  {
   "cell_type": "code",
   "execution_count": null,
   "metadata": {},
   "outputs": [],
   "source": [
    "output_file_path = '../data/output/covid_19_4.json'\n",
    "\n",
    "with open(output_file_path, 'w') as output_file:\n",
    "    json.dump(covid_19_dict, output_file, indent=2)"
   ]
  },
  {
   "source": [
    "## Optional - Load 4 & 3.\n",
    "Load the data needed for step 5, if the data from step 4 & 3 have already been saved in `/data/output/`"
   ],
   "cell_type": "markdown",
   "metadata": {}
=======
    "Save the output of step 4 in `/data/temp/` for later use"
   ]
  },
  {
   "cell_type": "markdown",
   "metadata": {},
   "source": [
    "## Optional - Load 4.\n",
    "Load the data needed for step 5, if the data from step 4 & 3 have already been saved in `/data/temp/`"
   ]
>>>>>>> 1db6e997f236e3a2380a3004b0d4442bc2472176
  },
  {
   "cell_type": "code",
   "execution_count": null,
   "metadata": {},
   "outputs": [],
   "source": [
    "max_vals_input_file_path = \"../data/output/covid_19_3.json\"\n",
    "covid_19_input_file_path = \"../data/output/covid_19_4.json\"\n",
    "\n",
    "with open(max_vals_input_file_path) as max_vals_input_file, open(covid_19_input_file_path) as covid_19_input_file:\n",
    "    # Make input available to next script:\n",
    "    global covid_19_dict\n",
    "    covid_19_dict = json.loads(covid_19_input_file.read())\n",
    "\n",
    "    global covid_19_max_vals_dict\n",
    "    covid_19_max_vals_dict = json.loads(max_vals_input_file.read())"
   ]
  },
  {
   "cell_type": "markdown",
   "metadata": {},
   "source": [
    "## 5. Sorting and filtering out unnecessary data"
   ]
  },
  {
   "cell_type": "code",
   "execution_count": 6,
   "metadata": {
    "execution": {
     "iopub.execute_input": "2020-11-17T06:14:13.238683Z",
     "iopub.status.busy": "2020-11-17T06:14:13.237684Z",
     "iopub.status.idle": "2020-11-17T06:14:16.739055Z",
     "shell.execute_reply": "2020-11-17T06:14:16.739055Z"
    }
   },
   "outputs": [
    {
     "output_type": "stream",
     "name": "stdout",
     "text": [
      "Step 5: Sorting and filtering the data for the visualization...\n"
     ]
    }
   ],
   "source": [
    "print('Step 5: Sorting and filtering the data for the visualization...')\n",
    "\n",
    "# max_vals_path = \"../data/temp/covid_19_max_vals.json\"\n",
    "# covid_19_path = \"../data/temp/covid_19_transformed.json\"\n",
    "\n",
    "# The sort function takes a compare function\n",
    "# When sorting, we want to get the earliest date first\n",
    "# The function creates an integer by concatenating year-month-day and sorts on that\n",
    "\n",
    "\n",
    "def compare_function(e):\n",
    "  split_date = e[\"date\"].split(\"/\")\n",
    "  return int(split_date[2] + split_date[1] + split_date[0])\n",
    "\n",
    "\n",
    "# loads both covid_19_max_values.json and covid_19_transformed.json\n",
    "# sorts the records list in the data and merges the two files into a final product\n",
    "# Filtering might be added later\n",
    "# with open(max_vals_path) as max_vals, open(covid_19_path) as covid_19_data:\n",
    "#   covid_19_dict = json.loads(covid_19_data.read())\n",
    "#   max_vals_dict = json.loads(max_vals.read())\n",
    "\n",
    "covid_19_dict[\"records\"].sort(key=compare_function)\n",
    "\n",
    "output_dict = {\n",
    "    \"max_vals\": covid_19_max_vals_dict,\n",
    "    \"records\": covid_19_dict['records']\n",
    "}\n",
    "\n",
    "# Clean out unnecessary data:\n",
    "for entry in output_dict['records']:\n",
    "  for data_point in entry['data']:\n",
    "    del data_point['dateRep']\n",
    "    del data_point['day']\n",
    "    del data_point['month']\n",
    "    del data_point['year']\n",
    "    del data_point['popData2019']\n",
    "    del data_point['continentExp']\n",
    "    del data_point['Cumulative_number_for_14_days_of_COVID-19_cases_per_100000']\n",
    "\n",
    "output_file_path = '../data/output/covid_19_final.json'\n",
    "\n",
    "with open(output_file_path, 'w') as output_file:\n",
    "  json.dump(output_dict, output_file, indent=2)\n"
   ]
  }
 ],
 "metadata": {
  "kernelspec": {
   "display_name": "Python 3",
   "name": "python3"
  },
  "language_info": {
   "codemirror_mode": {
    "name": "ipython",
    "version": 3
   },
   "file_extension": ".py",
   "mimetype": "text/x-python",
   "name": "python",
   "nbconvert_exporter": "python",
   "pygments_lexer": "ipython3",
   "version": "3.8.0"
  }
 },
 "nbformat": 4,
 "nbformat_minor": 2
}
