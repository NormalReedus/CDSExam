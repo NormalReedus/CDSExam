{
 "cells": [
  {
   "cell_type": "markdown",
   "metadata": {},
   "source": [
    "# Data Processing\n",
    "This notebook will source the latest COVID-19 data from the [EU data portal](https://opendata.ecdc.europa.eu/covid19/casedistribution/json/ \"EU data portal\") and clean, transform, sort, and inject derivative data to produce a dataset that can be used to create timeline visualizations of the data.\n",
    "\n",
    "The optional saving / loading steps can be omitted, if you are only interested in the final output. They can, however, be useful if you do not want to redo every step (like downloading the 'raw' data) every time."
   ]
  },
  {
   "cell_type": "markdown",
   "metadata": {},
   "source": [
    "## 0. Setup\n",
    "\n",
    "This cell will always need to be run."
   ]
  },
  {
   "cell_type": "code",
   "execution_count": 1,
   "metadata": {},
   "outputs": [],
   "source": [
    "import os\n",
    "import json\n",
    "\n",
    "# Change cwd to this file's dir, so we can use a relative path when saving and loading files:\n",
    "os.chdir(os.getcwd())"
   ]
  },
  {
   "cell_type": "markdown",
   "metadata": {},
   "source": [
    "## 1. Get latest raw data from EU\n",
    "\n",
    "Download the latest COVID-19 data from the EU data portal."
   ]
  },
  {
   "cell_type": "code",
   "execution_count": 2,
   "metadata": {},
   "outputs": [
    {
     "name": "stdout",
     "output_type": "stream",
     "text": [
      "Step 1: Hacking into the EU mainframe...\n"
     ]
    }
   ],
   "source": [
    "import urllib.request\n",
    "\n",
    "print('Step 1: Hacking into the EU mainframe...')\n",
    "\n",
    "covid_19_data_url = \"https://opendata.ecdc.europa.eu/covid19/casedistribution/json/\"\n",
    "\n",
    "with urllib.request.urlopen(covid_19_data_url) as input_file:\n",
    "\t# Make output available to next script:\n",
    "\tglobal covid_19_dict\n",
    "\t# We read the json, but decode it as plaintext, not bytes:\n",
    "\tcovid_19_dict = json.loads(input_file.read().decode('utf-8'))"
   ]
  },
  {
   "cell_type": "markdown",
   "metadata": {},
   "source": [
    "## Optional - Save 1.\n",
    "Save the output of step 1 in `/data/input` for later use"
   ]
  },
  {
   "cell_type": "code",
   "execution_count": 3,
   "metadata": {},
   "outputs": [],
   "source": [
    "output_file_path = '../data/input/covid_19_raw.json'\n",
    "\n",
    "# We save the fetched data to file:\n",
    "with open(output_file_path, 'w') as output_file:\n",
    "    json.dump(covid_19_dict, output_file, indent=2)"
   ]
  },
  {
   "cell_type": "markdown",
   "metadata": {},
   "source": [
    "## Optional - Load 1.\n",
    "Load the data needed for step 2, if the data from step 1 has already been saved in `/data/input`"
   ]
  },
  {
   "cell_type": "code",
   "execution_count": 4,
   "metadata": {},
   "outputs": [],
   "source": [
    "input_file_path = '../data/input/covid_19_raw.json'\n",
    "\n",
    "with open(input_file_path) as input_file:\n",
    "    # Make input available to next script:\n",
    "    global covid_19_dict\n",
    "    covid_19_dict = json.loads(input_file.read())"
   ]
  },
  {
   "cell_type": "markdown",
   "metadata": {},
   "source": [
    "## 2. Calculate deaths and cases per capita\n",
    "\n",
    "Creating a value for deaths and cases per capita for every record using the included deaths, cases, and 2019 population data values."
   ]
  },
  {
   "cell_type": "code",
   "execution_count": 5,
   "metadata": {},
   "outputs": [
    {
     "name": "stdout",
     "output_type": "stream",
     "text": [
      "Step 2: Calculating deaths and cases per capita...\n"
     ]
    }
   ],
   "source": [
    "import copy\n",
    "print('Step 2: Calculating deaths and cases per capita...')\n",
    "\n",
    "def insert_per_cap_columns(covid_19_dict):\n",
    "    # We clone the dict to keep our function PURE:\n",
    "    covid_19_dict_copy = copy.deepcopy(covid_19_dict)\n",
    "\n",
    "    covid_19_records = covid_19_dict_copy['records']\n",
    "\n",
    "    for record in covid_19_records:\n",
    "        # Skip cases in international waters etc:\n",
    "        if record['popData2019'] == None:\n",
    "            continue\n",
    "\n",
    "        # Insertion of new 'columns':\n",
    "        record['deaths_per_cap'] = record['deaths'] / record['popData2019']\n",
    "        record['cases_per_cap'] = record['cases'] / record['popData2019']\n",
    "\n",
    "    return covid_19_dict_copy\n",
    "\n",
    "# Overwrite our data with data with the new 'columns':\n",
    "covid_19_dict = insert_per_cap_columns(covid_19_dict)"
   ]
  },
  {
   "cell_type": "markdown",
   "metadata": {},
   "source": [
    "## Optional - Save 2.\n",
    "Save the output of step 2 in `/data/output` for later use"
   ]
  },
  {
   "cell_type": "code",
   "execution_count": 6,
   "metadata": {},
   "outputs": [],
   "source": [
    "output_file_path = '../data/output/covid_19_2.json'\n",
    "\n",
    "with open(output_file_path, 'w') as output_file:\n",
    "    json.dump(covid_19_dict, output_file, indent=2)"
   ]
  },
  {
   "cell_type": "markdown",
   "metadata": {},
   "source": [
    "## Optional - Load 2.\n",
    "Load the data needed for step 3, if the data from step 2 has already been saved in `/data/output`"
   ]
  },
  {
   "cell_type": "code",
   "execution_count": 7,
   "metadata": {},
   "outputs": [],
   "source": [
    "input_file_path = '../data/output/covid_19_2.json'\n",
    "\n",
    "with open(input_file_path) as input_file:\n",
    "    # Make input available to next script:\n",
    "    global covid_19_dict\n",
    "    covid_19_dict = json.loads(input_file.read())"
   ]
  },
  {
   "cell_type": "markdown",
   "metadata": {},
   "source": [
    "## 3. Calculate max values\n",
    "The maximum values for cases, deaths, cases per capita, deaths per capita are calculated for the visualizer limits and inserted into the data. To make sure the countries with the highest values do not completely stretch the span of values, they are removed from this calculation - but not the dataset (this means that the top `remove_amt` countries at the worst dates will be displayed as the highest value indicator, e.g. color)."
   ]
  },
  {
   "cell_type": "code",
   "execution_count": 8,
   "metadata": {},
   "outputs": [
    {
     "name": "stdout",
     "output_type": "stream",
     "text": [
      "Step 3: Calculating max covid-19 cases and deaths...\n"
     ]
    }
   ],
   "source": [
    "print('Step 3: Calculating max covid-19 cases and deaths...')\n",
    "\n",
    "def get_max_vals(covid_19_records):\n",
    "  def get_max_value(variable):\n",
    "    # The variable used for calculating the max value is the variable we need to sort with to remove the top countries:\n",
    "    sorted_filtered = remove_top_countries(covid_19_records, sort_by=variable)\n",
    "    # The last index contains the highest value after sorting (and removing a few):\n",
    "    max = sorted_filtered[len(sorted_filtered) - 1][variable]\n",
    "    return max\n",
    "\n",
    "  # Returns the highest value for a given variable, regardless of which country 'has' this value:\n",
    "  return {\n",
    "      \"cases\": get_max_value('cases'),\n",
    "      \"deaths\": get_max_value('deaths'),\n",
    "      \"cases_per_cap\": get_max_value('cases_per_cap'),\n",
    "      \"deaths_per_cap\": get_max_value('deaths_per_cap')\n",
    "  }\n",
    "\n",
    "# Takes in which variable to sort by, which dictates which countries get removed from the calculation of maxes:\n",
    "def remove_top_countries(covid_19_records, sort_by):\n",
    "  # The amount of countries to remove, to not stretch the scale too much:\n",
    "  remove_amt = 3\n",
    "\n",
    "  # There aren't numbers for all records with these two variables:\n",
    "  if sort_by == 'cases_per_cap' or sort_by == 'deaths_per_cap':\n",
    "    # So we filter off the records that do not contain a value for this variable:\n",
    "    covid_19_records = filter(\n",
    "        lambda record: record.get(sort_by), covid_19_records)\n",
    "\n",
    "  # Sorts by the given variable:\n",
    "  sorted_list = sorted(covid_19_records, key=lambda record: record[sort_by])\n",
    "\n",
    "  # Removes the countries with the top numbers:\n",
    "  for i in range(remove_amt):\n",
    "    # Get name of country with highest value for the variable:\n",
    "    highest_num_country = sorted_list[len(\n",
    "        sorted_list) - 1]['countriesAndTerritories']\n",
    "    # Filter out the given country:\n",
    "    sorted_list = [\n",
    "        record for record in sorted_list if record['countriesAndTerritories'] != highest_num_country]\n",
    "  return sorted_list\n",
    "\n",
    "\n",
    "\n",
    "covid_19_records = covid_19_dict['records']\n",
    "\n",
    "# The max values are not necessarily all for the same country, since they are just used to set the color limits in the visualizer\n",
    "# Creation of a dictionary with only the max values for every variable:\n",
    "covid_19_max_vals_dict = get_max_vals(covid_19_records)"
   ]
  },
  {
   "cell_type": "markdown",
   "metadata": {},
   "source": [
    "## Optional - Save 3.\n",
    "Save the output of step 3 in `/data/output` for later use"
   ]
  },
  {
   "cell_type": "code",
   "execution_count": 9,
   "metadata": {},
   "outputs": [],
   "source": [
    "output_file_path = '../data/output/covid_19_3.json'\n",
    "\n",
    "with open(output_file_path, 'w') as output_file:\n",
    "  json.dump(covid_19_max_vals_dict, output_file, indent=2)"
   ]
  },
  {
   "cell_type": "markdown",
   "metadata": {},
   "source": [
    "## Optional - Load 2.\n",
    "Load the data needed for step 4, if the data from step 2 have already been saved in `/data/output`"
   ]
  },
  {
   "cell_type": "code",
   "execution_count": 10,
   "metadata": {},
   "outputs": [],
   "source": [
    "input_file_path = '../data/output/covid_19_2.json'\n",
    "\n",
    "with open(input_file_path) as input_file:\n",
    "    # Make input available to next script:\n",
    "    global covid_19_dict\n",
    "    covid_19_dict = json.loads(input_file.read())"
   ]
  },
  {
   "cell_type": "markdown",
   "metadata": {},
   "source": [
    "## 4. Transform data into a better format for the visualiser\n",
    "\n",
    "The records are transformed to be indexed by their date instead of geographic area."
   ]
  },
  {
   "cell_type": "code",
   "execution_count": 11,
   "metadata": {},
   "outputs": [
    {
     "name": "stdout",
     "output_type": "stream",
     "text": [
      "Step 4: Transforming the data to make it easier to work with...\n"
     ]
    }
   ],
   "source": [
    "print('Step 4: Transforming the data to make it easier to work with...')\n",
    "\n",
    "def transform_data(covid_19_records):\n",
    "    # An array for the finished data is created:\n",
    "    data_correct_format = []\n",
    "\n",
    "    for date in unique_dates(covid_19_records):\n",
    "        # The template for a record:\n",
    "        date_dict = {'date': date, 'data': []}\n",
    "\n",
    "        # Go through original data, and put it under the corresponding date in the new format:\n",
    "        for entry in covid_19_records:\n",
    "            if entry['dateRep'] == date:\n",
    "                date_dict['data'].append(entry)\n",
    "\n",
    "        # The entire dictionary is then appended to the list:\n",
    "        data_correct_format.append(date_dict)\n",
    "    return data_correct_format\n",
    "\n",
    "def unique_dates(covid_19_records):\n",
    "    # The list containing every date in the dataset:\n",
    "    used_dates = []\n",
    "\n",
    "    for entry in covid_19_records:\n",
    "        # Add the date to the list, if it is not already there:\n",
    "        date = entry['dateRep']\n",
    "        if date not in used_dates:\n",
    "            used_dates.append(date)\n",
    "        \n",
    "    return used_dates\n",
    "\n",
    "# Records will now be a list of dates (with data for every country):\n",
    "covid_19_dict['records'] = transform_data(covid_19_dict['records'])"
   ]
  },
  {
   "cell_type": "markdown",
   "metadata": {},
   "source": [
    "## Optional - Save 4.\n",
    "Save the output of step 4 in `/data/output` for later use"
   ]
  },
  {
   "cell_type": "code",
   "execution_count": 12,
   "metadata": {},
   "outputs": [],
   "source": [
    "output_file_path = '../data/output/covid_19_4.json'\n",
    "\n",
    "with open(output_file_path, 'w') as output_file:\n",
    "    json.dump(covid_19_dict, output_file, indent=2)"
   ]
  },
  {
   "cell_type": "markdown",
   "metadata": {},
   "source": [
    "## Optional - Load 4 & 3.\n",
    "Load the data needed for step 5, if the data from step 4 & 3 have already been saved in `/data/output`"
   ]
  },
  {
   "cell_type": "code",
   "execution_count": 13,
   "metadata": {},
   "outputs": [],
   "source": [
    "max_vals_input_file_path = \"../data/output/covid_19_3.json\"\n",
    "covid_19_input_file_path = \"../data/output/covid_19_4.json\"\n",
    "\n",
    "with open(max_vals_input_file_path) as max_vals_input_file, open(covid_19_input_file_path) as covid_19_input_file:\n",
    "    # Make input available to next script:\n",
    "    global covid_19_dict\n",
    "    covid_19_dict = json.loads(covid_19_input_file.read())\n",
    "\n",
    "    global covid_19_max_vals_dict\n",
    "    covid_19_max_vals_dict = json.loads(max_vals_input_file.read())"
   ]
  },
  {
   "cell_type": "markdown",
   "metadata": {},
   "source": [
    "## 5. Sorting and filtering data\n",
    "\n",
    "The previous data are combined and unnecessary data is removed. The list of data is ordered by date from earliest to latest."
   ]
  },
  {
   "cell_type": "code",
   "execution_count": 14,
   "metadata": {},
   "outputs": [
    {
     "name": "stdout",
     "output_type": "stream",
     "text": [
      "Step 5: Sorting and filtering the data for the visualization...\n"
     ]
    }
   ],
   "source": [
    "print('Step 5: Sorting and filtering the data for the visualization...')\n",
    "\n",
    "# Used to make date format (DD/MM/YYYY) something that can be sorted by:\n",
    "def compare_function(e):\n",
    "  split_date = e[\"date\"].split(\"/\")\n",
    "  return int(split_date[2] + split_date[1] + split_date[0])\n",
    "\n",
    "# The records are sorted by date:\n",
    "covid_19_dict[\"records\"].sort(key=compare_function)\n",
    "\n",
    "# The data are combined, so a visualizer can access both the data and the limits for the (e.g.) color ranges:\n",
    "output_dict = {\n",
    "    \"max_vals\": covid_19_max_vals_dict,\n",
    "    \"records\": covid_19_dict['records']\n",
    "}\n",
    "\n",
    "# Clean out unnecessary variables:\n",
    "for entry in output_dict['records']:\n",
    "  for data_point in entry['data']:\n",
    "    del data_point['dateRep']\n",
    "    del data_point['day']\n",
    "    del data_point['month']\n",
    "    del data_point['year']\n",
    "    del data_point['popData2019']\n",
    "    del data_point['continentExp']\n",
    "    del data_point['Cumulative_number_for_14_days_of_COVID-19_cases_per_100000']\n",
    "\n",
    "# Save the file:\n",
    "output_file_path = '../data/output/covid_19_final.json'\n",
    "\n",
    "with open(output_file_path, 'w') as output_file:\n",
    "  json.dump(output_dict, output_file, indent=2)\n"
   ]
  }
 ],
 "metadata": {
  "kernelspec": {
   "display_name": "Python 3",
   "name": "python3"
  },
  "language_info": {
   "codemirror_mode": {
    "name": "ipython",
    "version": 3
   },
   "file_extension": ".py",
   "mimetype": "text/x-python",
   "name": "python",
   "nbconvert_exporter": "python",
   "pygments_lexer": "ipython3",
   "version": "3.7.4"
  }
 },
 "nbformat": 4,
 "nbformat_minor": 2
}
